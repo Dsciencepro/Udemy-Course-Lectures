{
 "cells": [
  {
   "cell_type": "code",
   "execution_count": 1,
   "metadata": {},
   "outputs": [],
   "source": [
    "import numpy as np\n",
    "import pandas as pd\n",
    "from pandas import Series, DataFrame"
   ]
  },
  {
   "cell_type": "code",
   "execution_count": 2,
   "metadata": {},
   "outputs": [],
   "source": [
    "arr = np.array([[1,2,np.nan],[np.nan,3,4]])"
   ]
  },
  {
   "cell_type": "code",
   "execution_count": 3,
   "metadata": {},
   "outputs": [
    {
     "data": {
      "text/html": [
       "<div>\n",
       "<style>\n",
       "    .dataframe thead tr:only-child th {\n",
       "        text-align: right;\n",
       "    }\n",
       "\n",
       "    .dataframe thead th {\n",
       "        text-align: left;\n",
       "    }\n",
       "\n",
       "    .dataframe tbody tr th {\n",
       "        vertical-align: top;\n",
       "    }\n",
       "</style>\n",
       "<table border=\"1\" class=\"dataframe\">\n",
       "  <thead>\n",
       "    <tr style=\"text-align: right;\">\n",
       "      <th></th>\n",
       "      <th>One</th>\n",
       "      <th>Two</th>\n",
       "      <th>Three</th>\n",
       "    </tr>\n",
       "  </thead>\n",
       "  <tbody>\n",
       "    <tr>\n",
       "      <th>A</th>\n",
       "      <td>1.0</td>\n",
       "      <td>2.0</td>\n",
       "      <td>NaN</td>\n",
       "    </tr>\n",
       "    <tr>\n",
       "      <th>B</th>\n",
       "      <td>NaN</td>\n",
       "      <td>3.0</td>\n",
       "      <td>4.0</td>\n",
       "    </tr>\n",
       "  </tbody>\n",
       "</table>\n",
       "</div>"
      ],
      "text/plain": [
       "   One  Two  Three\n",
       "A  1.0  2.0    NaN\n",
       "B  NaN  3.0    4.0"
      ]
     },
     "execution_count": 3,
     "metadata": {},
     "output_type": "execute_result"
    }
   ],
   "source": [
    "dframe1 = DataFrame(arr,index=['A','B'],columns=['One','Two','Three'])\n",
    "dframe1"
   ]
  },
  {
   "cell_type": "code",
   "execution_count": 5,
   "metadata": {},
   "outputs": [
    {
     "data": {
      "text/plain": [
       "One      1.0\n",
       "Two      5.0\n",
       "Three    4.0\n",
       "dtype: float64"
      ]
     },
     "execution_count": 5,
     "metadata": {},
     "output_type": "execute_result"
    }
   ],
   "source": [
    "dframe1.sum()"
   ]
  },
  {
   "cell_type": "code",
   "execution_count": 4,
   "metadata": {},
   "outputs": [
    {
     "data": {
      "text/plain": [
       "A    3.0\n",
       "B    7.0\n",
       "dtype: float64"
      ]
     },
     "execution_count": 4,
     "metadata": {},
     "output_type": "execute_result"
    }
   ],
   "source": [
    "dframe1.sum(axis=1)"
   ]
  },
  {
   "cell_type": "code",
   "execution_count": 10,
   "metadata": {},
   "outputs": [
    {
     "data": {
      "text/html": [
       "<div>\n",
       "<style>\n",
       "    .dataframe thead tr:only-child th {\n",
       "        text-align: right;\n",
       "    }\n",
       "\n",
       "    .dataframe thead th {\n",
       "        text-align: left;\n",
       "    }\n",
       "\n",
       "    .dataframe tbody tr th {\n",
       "        vertical-align: top;\n",
       "    }\n",
       "</style>\n",
       "<table border=\"1\" class=\"dataframe\">\n",
       "  <thead>\n",
       "    <tr style=\"text-align: right;\">\n",
       "      <th></th>\n",
       "      <th>One</th>\n",
       "      <th>Two</th>\n",
       "      <th>Three</th>\n",
       "    </tr>\n",
       "  </thead>\n",
       "  <tbody>\n",
       "    <tr>\n",
       "      <th>A</th>\n",
       "      <td>1.0</td>\n",
       "      <td>2.0</td>\n",
       "      <td>NaN</td>\n",
       "    </tr>\n",
       "    <tr>\n",
       "      <th>B</th>\n",
       "      <td>NaN</td>\n",
       "      <td>3.0</td>\n",
       "      <td>4.0</td>\n",
       "    </tr>\n",
       "  </tbody>\n",
       "</table>\n",
       "</div>"
      ],
      "text/plain": [
       "   One  Two  Three\n",
       "A  1.0  2.0    NaN\n",
       "B  NaN  3.0    4.0"
      ]
     },
     "execution_count": 10,
     "metadata": {},
     "output_type": "execute_result"
    }
   ],
   "source": [
    "dframe1"
   ]
  },
  {
   "cell_type": "code",
   "execution_count": 12,
   "metadata": {},
   "outputs": [
    {
     "data": {
      "text/plain": [
       "One      A\n",
       "Two      A\n",
       "Three    B\n",
       "dtype: object"
      ]
     },
     "execution_count": 12,
     "metadata": {},
     "output_type": "execute_result"
    }
   ],
   "source": [
    "dframe1.idxmin()"
   ]
  },
  {
   "cell_type": "code",
   "execution_count": 15,
   "metadata": {},
   "outputs": [
    {
     "data": {
      "text/html": [
       "<div>\n",
       "<style>\n",
       "    .dataframe thead tr:only-child th {\n",
       "        text-align: right;\n",
       "    }\n",
       "\n",
       "    .dataframe thead th {\n",
       "        text-align: left;\n",
       "    }\n",
       "\n",
       "    .dataframe tbody tr th {\n",
       "        vertical-align: top;\n",
       "    }\n",
       "</style>\n",
       "<table border=\"1\" class=\"dataframe\">\n",
       "  <thead>\n",
       "    <tr style=\"text-align: right;\">\n",
       "      <th></th>\n",
       "      <th>One</th>\n",
       "      <th>Two</th>\n",
       "      <th>Three</th>\n",
       "    </tr>\n",
       "  </thead>\n",
       "  <tbody>\n",
       "    <tr>\n",
       "      <th>count</th>\n",
       "      <td>1.0</td>\n",
       "      <td>2.000000</td>\n",
       "      <td>1.0</td>\n",
       "    </tr>\n",
       "    <tr>\n",
       "      <th>mean</th>\n",
       "      <td>1.0</td>\n",
       "      <td>2.500000</td>\n",
       "      <td>4.0</td>\n",
       "    </tr>\n",
       "    <tr>\n",
       "      <th>std</th>\n",
       "      <td>NaN</td>\n",
       "      <td>0.707107</td>\n",
       "      <td>NaN</td>\n",
       "    </tr>\n",
       "    <tr>\n",
       "      <th>min</th>\n",
       "      <td>1.0</td>\n",
       "      <td>2.000000</td>\n",
       "      <td>4.0</td>\n",
       "    </tr>\n",
       "    <tr>\n",
       "      <th>25%</th>\n",
       "      <td>1.0</td>\n",
       "      <td>2.250000</td>\n",
       "      <td>4.0</td>\n",
       "    </tr>\n",
       "    <tr>\n",
       "      <th>50%</th>\n",
       "      <td>1.0</td>\n",
       "      <td>2.500000</td>\n",
       "      <td>4.0</td>\n",
       "    </tr>\n",
       "    <tr>\n",
       "      <th>75%</th>\n",
       "      <td>1.0</td>\n",
       "      <td>2.750000</td>\n",
       "      <td>4.0</td>\n",
       "    </tr>\n",
       "    <tr>\n",
       "      <th>max</th>\n",
       "      <td>1.0</td>\n",
       "      <td>3.000000</td>\n",
       "      <td>4.0</td>\n",
       "    </tr>\n",
       "  </tbody>\n",
       "</table>\n",
       "</div>"
      ],
      "text/plain": [
       "       One       Two  Three\n",
       "count  1.0  2.000000    1.0\n",
       "mean   1.0  2.500000    4.0\n",
       "std    NaN  0.707107    NaN\n",
       "min    1.0  2.000000    4.0\n",
       "25%    1.0  2.250000    4.0\n",
       "50%    1.0  2.500000    4.0\n",
       "75%    1.0  2.750000    4.0\n",
       "max    1.0  3.000000    4.0"
      ]
     },
     "execution_count": 15,
     "metadata": {},
     "output_type": "execute_result"
    }
   ],
   "source": [
    "dframe1.describe()"
   ]
  },
  {
   "cell_type": "code",
   "execution_count": 19,
   "metadata": {},
   "outputs": [
    {
     "data": {
      "text/html": [
       "<div>\n",
       "<style>\n",
       "    .dataframe thead tr:only-child th {\n",
       "        text-align: right;\n",
       "    }\n",
       "\n",
       "    .dataframe thead th {\n",
       "        text-align: left;\n",
       "    }\n",
       "\n",
       "    .dataframe tbody tr th {\n",
       "        vertical-align: top;\n",
       "    }\n",
       "</style>\n",
       "<table border=\"1\" class=\"dataframe\">\n",
       "  <thead>\n",
       "    <tr style=\"text-align: right;\">\n",
       "      <th></th>\n",
       "      <th>One</th>\n",
       "      <th>Two</th>\n",
       "      <th>Three</th>\n",
       "    </tr>\n",
       "  </thead>\n",
       "  <tbody>\n",
       "    <tr>\n",
       "      <th>A</th>\n",
       "      <td>1.0</td>\n",
       "      <td>2.0</td>\n",
       "      <td>NaN</td>\n",
       "    </tr>\n",
       "    <tr>\n",
       "      <th>B</th>\n",
       "      <td>NaN</td>\n",
       "      <td>3.0</td>\n",
       "      <td>4.0</td>\n",
       "    </tr>\n",
       "  </tbody>\n",
       "</table>\n",
       "</div>"
      ],
      "text/plain": [
       "   One  Two  Three\n",
       "A  1.0  2.0    NaN\n",
       "B  NaN  3.0    4.0"
      ]
     },
     "execution_count": 19,
     "metadata": {},
     "output_type": "execute_result"
    }
   ],
   "source": [
    "dframe1"
   ]
  },
  {
   "cell_type": "code",
   "execution_count": 25,
   "metadata": {},
   "outputs": [],
   "source": [
    "from IPython.display import YouTubeVideo"
   ]
  },
  {
   "cell_type": "code",
   "execution_count": 27,
   "metadata": {},
   "outputs": [
    {
     "data": {
      "image/jpeg": "[encoded data removed]",
      "text/html": [
       "\n",
       "        <iframe\n",
       "            width=\"400\"\n",
       "            height=\"300\"\n",
       "            src=\"https://www.youtube.com/embed/xGbpuFNR1ME\"\n",
       "            frameborder=\"0\"\n",
       "            allowfullscreen\n",
       "        ></iframe>\n",
       "        "
      ],
      "text/plain": [
       "<IPython.lib.display.YouTubeVideo at 0x9595ef0>"
      ]
     },
     "execution_count": 27,
     "metadata": {},
     "output_type": "execute_result"
    }
   ],
   "source": [
    "YouTubeVideo('xGbpuFNR1ME')"
   ]
  },
  {
   "cell_type": "code",
   "execution_count": 28,
   "metadata": {},
   "outputs": [
    {
     "data": {
      "image/jpeg": "[encoded data removed]",
      "text/html": [
       "\n",
       "        <iframe\n",
       "            width=\"400\"\n",
       "            height=\"300\"\n",
       "            src=\"https://www.youtube.com/embed/4EXNedimDMs\"\n",
       "            frameborder=\"0\"\n",
       "            allowfullscreen\n",
       "        ></iframe>\n",
       "        "
      ],
      "text/plain": [
       "<IPython.lib.display.YouTubeVideo at 0x9595e90>"
      ]
     },
     "execution_count": 28,
     "metadata": {},
     "output_type": "execute_result"
    }
   ],
   "source": [
    "YouTubeVideo('4EXNedimDMs')"
   ]
  },
  {
   "cell_type": "code",
   "execution_count": 5,
   "metadata": {},
   "outputs": [],
   "source": [
    "import pandas as pd\n",
    "import datetime\n",
    "import pandas_datareader as pdweb\n",
    "from pandas_datareader import data, wb\n",
    " \n",
    "start = datetime.datetime(2018, 1, 1)\n",
    "end = datetime.datetime(2018,4,22)\n",
    " \n",
    "prices_df = pdweb.DataReader(['CVX','XOM','BP'], 'morningstar', start, end)"
   ]
  },
  {
   "cell_type": "code",
   "execution_count": 11,
   "metadata": {},
   "outputs": [
    {
     "data": {
      "text/html": [
       "<div>\n",
       "<style>\n",
       "    .dataframe thead tr:only-child th {\n",
       "        text-align: right;\n",
       "    }\n",
       "\n",
       "    .dataframe thead th {\n",
       "        text-align: left;\n",
       "    }\n",
       "\n",
       "    .dataframe tbody tr th {\n",
       "        vertical-align: top;\n",
       "    }\n",
       "</style>\n",
       "<table border=\"1\" class=\"dataframe\">\n",
       "  <thead>\n",
       "    <tr style=\"text-align: right;\">\n",
       "      <th></th>\n",
       "      <th></th>\n",
       "      <th>Close</th>\n",
       "      <th>High</th>\n",
       "      <th>Low</th>\n",
       "      <th>Open</th>\n",
       "      <th>Volume</th>\n",
       "    </tr>\n",
       "    <tr>\n",
       "      <th>Symbol</th>\n",
       "      <th>Date</th>\n",
       "      <th></th>\n",
       "      <th></th>\n",
       "      <th></th>\n",
       "      <th></th>\n",
       "      <th></th>\n",
       "    </tr>\n",
       "  </thead>\n",
       "  <tbody>\n",
       "    <tr>\n",
       "      <th rowspan=\"30\" valign=\"top\">CVX</th>\n",
       "      <th>2018-01-01</th>\n",
       "      <td>125.19</td>\n",
       "      <td>125.1900</td>\n",
       "      <td>125.1900</td>\n",
       "      <td>125.19</td>\n",
       "      <td>0</td>\n",
       "    </tr>\n",
       "    <tr>\n",
       "      <th>2018-01-02</th>\n",
       "      <td>127.58</td>\n",
       "      <td>127.7400</td>\n",
       "      <td>125.5400</td>\n",
       "      <td>125.71</td>\n",
       "      <td>5626785</td>\n",
       "    </tr>\n",
       "    <tr>\n",
       "      <th>2018-01-03</th>\n",
       "      <td>128.51</td>\n",
       "      <td>128.9400</td>\n",
       "      <td>126.9000</td>\n",
       "      <td>127.46</td>\n",
       "      <td>5805458</td>\n",
       "    </tr>\n",
       "    <tr>\n",
       "      <th>2018-01-04</th>\n",
       "      <td>128.11</td>\n",
       "      <td>128.3500</td>\n",
       "      <td>127.2200</td>\n",
       "      <td>127.95</td>\n",
       "      <td>4598264</td>\n",
       "    </tr>\n",
       "    <tr>\n",
       "      <th>2018-01-05</th>\n",
       "      <td>127.90</td>\n",
       "      <td>128.1000</td>\n",
       "      <td>127.1000</td>\n",
       "      <td>127.97</td>\n",
       "      <td>4189223</td>\n",
       "    </tr>\n",
       "    <tr>\n",
       "      <th>2018-01-08</th>\n",
       "      <td>128.53</td>\n",
       "      <td>128.6300</td>\n",
       "      <td>127.6300</td>\n",
       "      <td>127.86</td>\n",
       "      <td>4826132</td>\n",
       "    </tr>\n",
       "    <tr>\n",
       "      <th>2018-01-09</th>\n",
       "      <td>127.84</td>\n",
       "      <td>128.9350</td>\n",
       "      <td>127.7900</td>\n",
       "      <td>128.43</td>\n",
       "      <td>4422338</td>\n",
       "    </tr>\n",
       "    <tr>\n",
       "      <th>2018-01-10</th>\n",
       "      <td>128.66</td>\n",
       "      <td>128.7600</td>\n",
       "      <td>127.7999</td>\n",
       "      <td>128.31</td>\n",
       "      <td>5292182</td>\n",
       "    </tr>\n",
       "    <tr>\n",
       "      <th>2018-01-11</th>\n",
       "      <td>132.57</td>\n",
       "      <td>133.3200</td>\n",
       "      <td>128.7600</td>\n",
       "      <td>128.92</td>\n",
       "      <td>11641292</td>\n",
       "    </tr>\n",
       "    <tr>\n",
       "      <th>2018-01-12</th>\n",
       "      <td>133.60</td>\n",
       "      <td>133.8500</td>\n",
       "      <td>132.1100</td>\n",
       "      <td>132.19</td>\n",
       "      <td>7232883</td>\n",
       "    </tr>\n",
       "    <tr>\n",
       "      <th>2018-01-15</th>\n",
       "      <td>133.60</td>\n",
       "      <td>133.6000</td>\n",
       "      <td>133.6000</td>\n",
       "      <td>133.60</td>\n",
       "      <td>0</td>\n",
       "    </tr>\n",
       "    <tr>\n",
       "      <th>2018-01-16</th>\n",
       "      <td>132.01</td>\n",
       "      <td>133.8800</td>\n",
       "      <td>131.6000</td>\n",
       "      <td>133.67</td>\n",
       "      <td>6254209</td>\n",
       "    </tr>\n",
       "    <tr>\n",
       "      <th>2018-01-17</th>\n",
       "      <td>132.36</td>\n",
       "      <td>132.8000</td>\n",
       "      <td>130.9600</td>\n",
       "      <td>132.19</td>\n",
       "      <td>5632748</td>\n",
       "    </tr>\n",
       "    <tr>\n",
       "      <th>2018-01-18</th>\n",
       "      <td>131.59</td>\n",
       "      <td>132.5000</td>\n",
       "      <td>131.0300</td>\n",
       "      <td>132.35</td>\n",
       "      <td>5890004</td>\n",
       "    </tr>\n",
       "    <tr>\n",
       "      <th>2018-01-19</th>\n",
       "      <td>131.30</td>\n",
       "      <td>132.0000</td>\n",
       "      <td>130.2100</td>\n",
       "      <td>131.83</td>\n",
       "      <td>6048904</td>\n",
       "    </tr>\n",
       "    <tr>\n",
       "      <th>2018-01-22</th>\n",
       "      <td>132.56</td>\n",
       "      <td>132.5600</td>\n",
       "      <td>131.2800</td>\n",
       "      <td>131.30</td>\n",
       "      <td>5248785</td>\n",
       "    </tr>\n",
       "    <tr>\n",
       "      <th>2018-01-23</th>\n",
       "      <td>131.02</td>\n",
       "      <td>132.5600</td>\n",
       "      <td>130.7300</td>\n",
       "      <td>132.38</td>\n",
       "      <td>5747334</td>\n",
       "    </tr>\n",
       "    <tr>\n",
       "      <th>2018-01-24</th>\n",
       "      <td>131.39</td>\n",
       "      <td>132.6678</td>\n",
       "      <td>131.0700</td>\n",
       "      <td>131.38</td>\n",
       "      <td>6868223</td>\n",
       "    </tr>\n",
       "    <tr>\n",
       "      <th>2018-01-25</th>\n",
       "      <td>130.65</td>\n",
       "      <td>131.8700</td>\n",
       "      <td>130.3400</td>\n",
       "      <td>131.76</td>\n",
       "      <td>4597183</td>\n",
       "    </tr>\n",
       "    <tr>\n",
       "      <th>2018-01-26</th>\n",
       "      <td>131.19</td>\n",
       "      <td>131.7500</td>\n",
       "      <td>130.3700</td>\n",
       "      <td>130.71</td>\n",
       "      <td>6310543</td>\n",
       "    </tr>\n",
       "    <tr>\n",
       "      <th>2018-01-29</th>\n",
       "      <td>128.48</td>\n",
       "      <td>131.5800</td>\n",
       "      <td>128.3200</td>\n",
       "      <td>130.06</td>\n",
       "      <td>6350723</td>\n",
       "    </tr>\n",
       "    <tr>\n",
       "      <th>2018-01-30</th>\n",
       "      <td>125.23</td>\n",
       "      <td>128.0100</td>\n",
       "      <td>125.1900</td>\n",
       "      <td>127.61</td>\n",
       "      <td>8084021</td>\n",
       "    </tr>\n",
       "    <tr>\n",
       "      <th>2018-01-31</th>\n",
       "      <td>125.35</td>\n",
       "      <td>125.8150</td>\n",
       "      <td>124.0500</td>\n",
       "      <td>125.42</td>\n",
       "      <td>9626771</td>\n",
       "    </tr>\n",
       "    <tr>\n",
       "      <th>2018-02-01</th>\n",
       "      <td>125.57</td>\n",
       "      <td>125.6300</td>\n",
       "      <td>124.0600</td>\n",
       "      <td>125.60</td>\n",
       "      <td>7844464</td>\n",
       "    </tr>\n",
       "    <tr>\n",
       "      <th>2018-02-02</th>\n",
       "      <td>118.58</td>\n",
       "      <td>123.9500</td>\n",
       "      <td>117.6400</td>\n",
       "      <td>123.95</td>\n",
       "      <td>13182551</td>\n",
       "    </tr>\n",
       "    <tr>\n",
       "      <th>2018-02-05</th>\n",
       "      <td>112.62</td>\n",
       "      <td>118.3000</td>\n",
       "      <td>108.0200</td>\n",
       "      <td>116.99</td>\n",
       "      <td>15414722</td>\n",
       "    </tr>\n",
       "    <tr>\n",
       "      <th>2018-02-06</th>\n",
       "      <td>117.18</td>\n",
       "      <td>117.6300</td>\n",
       "      <td>110.7600</td>\n",
       "      <td>111.20</td>\n",
       "      <td>18416320</td>\n",
       "    </tr>\n",
       "    <tr>\n",
       "      <th>2018-02-07</th>\n",
       "      <td>115.29</td>\n",
       "      <td>119.2700</td>\n",
       "      <td>115.2300</td>\n",
       "      <td>117.40</td>\n",
       "      <td>11535704</td>\n",
       "    </tr>\n",
       "    <tr>\n",
       "      <th>2018-02-08</th>\n",
       "      <td>112.30</td>\n",
       "      <td>115.8900</td>\n",
       "      <td>112.2100</td>\n",
       "      <td>115.17</td>\n",
       "      <td>9927483</td>\n",
       "    </tr>\n",
       "    <tr>\n",
       "      <th>2018-02-09</th>\n",
       "      <td>113.50</td>\n",
       "      <td>114.6200</td>\n",
       "      <td>109.5000</td>\n",
       "      <td>113.34</td>\n",
       "      <td>10922392</td>\n",
       "    </tr>\n",
       "    <tr>\n",
       "      <th>...</th>\n",
       "      <th>...</th>\n",
       "      <td>...</td>\n",
       "      <td>...</td>\n",
       "      <td>...</td>\n",
       "      <td>...</td>\n",
       "      <td>...</td>\n",
       "    </tr>\n",
       "    <tr>\n",
       "      <th rowspan=\"30\" valign=\"top\">BP</th>\n",
       "      <th>2018-03-12</th>\n",
       "      <td>39.85</td>\n",
       "      <td>39.8800</td>\n",
       "      <td>39.5800</td>\n",
       "      <td>39.68</td>\n",
       "      <td>3706000</td>\n",
       "    </tr>\n",
       "    <tr>\n",
       "      <th>2018-03-13</th>\n",
       "      <td>39.55</td>\n",
       "      <td>40.2000</td>\n",
       "      <td>39.4600</td>\n",
       "      <td>40.08</td>\n",
       "      <td>3517855</td>\n",
       "    </tr>\n",
       "    <tr>\n",
       "      <th>2018-03-14</th>\n",
       "      <td>38.87</td>\n",
       "      <td>39.4900</td>\n",
       "      <td>38.8100</td>\n",
       "      <td>39.44</td>\n",
       "      <td>6302722</td>\n",
       "    </tr>\n",
       "    <tr>\n",
       "      <th>2018-03-15</th>\n",
       "      <td>39.03</td>\n",
       "      <td>39.1400</td>\n",
       "      <td>38.7500</td>\n",
       "      <td>38.92</td>\n",
       "      <td>3976380</td>\n",
       "    </tr>\n",
       "    <tr>\n",
       "      <th>2018-03-16</th>\n",
       "      <td>39.48</td>\n",
       "      <td>39.6150</td>\n",
       "      <td>39.0700</td>\n",
       "      <td>39.11</td>\n",
       "      <td>4596504</td>\n",
       "    </tr>\n",
       "    <tr>\n",
       "      <th>2018-03-19</th>\n",
       "      <td>38.75</td>\n",
       "      <td>39.2350</td>\n",
       "      <td>38.5645</td>\n",
       "      <td>39.22</td>\n",
       "      <td>4241119</td>\n",
       "    </tr>\n",
       "    <tr>\n",
       "      <th>2018-03-20</th>\n",
       "      <td>39.04</td>\n",
       "      <td>39.1850</td>\n",
       "      <td>38.6300</td>\n",
       "      <td>38.65</td>\n",
       "      <td>6005468</td>\n",
       "    </tr>\n",
       "    <tr>\n",
       "      <th>2018-03-21</th>\n",
       "      <td>40.13</td>\n",
       "      <td>40.3000</td>\n",
       "      <td>39.0000</td>\n",
       "      <td>39.05</td>\n",
       "      <td>7438388</td>\n",
       "    </tr>\n",
       "    <tr>\n",
       "      <th>2018-03-22</th>\n",
       "      <td>39.03</td>\n",
       "      <td>39.6000</td>\n",
       "      <td>38.9200</td>\n",
       "      <td>39.59</td>\n",
       "      <td>6243329</td>\n",
       "    </tr>\n",
       "    <tr>\n",
       "      <th>2018-03-23</th>\n",
       "      <td>39.12</td>\n",
       "      <td>39.6350</td>\n",
       "      <td>39.0910</td>\n",
       "      <td>39.26</td>\n",
       "      <td>5365647</td>\n",
       "    </tr>\n",
       "    <tr>\n",
       "      <th>2018-03-26</th>\n",
       "      <td>40.42</td>\n",
       "      <td>40.4500</td>\n",
       "      <td>39.8650</td>\n",
       "      <td>40.33</td>\n",
       "      <td>6796832</td>\n",
       "    </tr>\n",
       "    <tr>\n",
       "      <th>2018-03-27</th>\n",
       "      <td>39.97</td>\n",
       "      <td>40.5700</td>\n",
       "      <td>39.8100</td>\n",
       "      <td>40.52</td>\n",
       "      <td>4755929</td>\n",
       "    </tr>\n",
       "    <tr>\n",
       "      <th>2018-03-28</th>\n",
       "      <td>39.60</td>\n",
       "      <td>40.0500</td>\n",
       "      <td>39.5800</td>\n",
       "      <td>39.81</td>\n",
       "      <td>5031720</td>\n",
       "    </tr>\n",
       "    <tr>\n",
       "      <th>2018-03-29</th>\n",
       "      <td>40.54</td>\n",
       "      <td>40.6700</td>\n",
       "      <td>40.1500</td>\n",
       "      <td>40.19</td>\n",
       "      <td>8336918</td>\n",
       "    </tr>\n",
       "    <tr>\n",
       "      <th>2018-03-30</th>\n",
       "      <td>40.54</td>\n",
       "      <td>40.5400</td>\n",
       "      <td>40.5400</td>\n",
       "      <td>40.54</td>\n",
       "      <td>0</td>\n",
       "    </tr>\n",
       "    <tr>\n",
       "      <th>2018-04-02</th>\n",
       "      <td>39.91</td>\n",
       "      <td>40.5400</td>\n",
       "      <td>39.4500</td>\n",
       "      <td>40.53</td>\n",
       "      <td>5752852</td>\n",
       "    </tr>\n",
       "    <tr>\n",
       "      <th>2018-04-03</th>\n",
       "      <td>40.71</td>\n",
       "      <td>40.7400</td>\n",
       "      <td>40.0500</td>\n",
       "      <td>40.61</td>\n",
       "      <td>5849663</td>\n",
       "    </tr>\n",
       "    <tr>\n",
       "      <th>2018-04-04</th>\n",
       "      <td>41.03</td>\n",
       "      <td>41.0300</td>\n",
       "      <td>40.5750</td>\n",
       "      <td>40.64</td>\n",
       "      <td>7305531</td>\n",
       "    </tr>\n",
       "    <tr>\n",
       "      <th>2018-04-05</th>\n",
       "      <td>41.92</td>\n",
       "      <td>42.0900</td>\n",
       "      <td>41.3200</td>\n",
       "      <td>41.36</td>\n",
       "      <td>7062440</td>\n",
       "    </tr>\n",
       "    <tr>\n",
       "      <th>2018-04-06</th>\n",
       "      <td>41.76</td>\n",
       "      <td>42.3900</td>\n",
       "      <td>41.5100</td>\n",
       "      <td>42.24</td>\n",
       "      <td>9060053</td>\n",
       "    </tr>\n",
       "    <tr>\n",
       "      <th>2018-04-09</th>\n",
       "      <td>41.66</td>\n",
       "      <td>41.9700</td>\n",
       "      <td>41.4000</td>\n",
       "      <td>41.63</td>\n",
       "      <td>5930608</td>\n",
       "    </tr>\n",
       "    <tr>\n",
       "      <th>2018-04-10</th>\n",
       "      <td>42.78</td>\n",
       "      <td>43.0000</td>\n",
       "      <td>42.3910</td>\n",
       "      <td>42.40</td>\n",
       "      <td>9041669</td>\n",
       "    </tr>\n",
       "    <tr>\n",
       "      <th>2018-04-11</th>\n",
       "      <td>43.06</td>\n",
       "      <td>43.2700</td>\n",
       "      <td>42.9000</td>\n",
       "      <td>43.03</td>\n",
       "      <td>5910073</td>\n",
       "    </tr>\n",
       "    <tr>\n",
       "      <th>2018-04-12</th>\n",
       "      <td>43.06</td>\n",
       "      <td>43.2450</td>\n",
       "      <td>42.8000</td>\n",
       "      <td>42.98</td>\n",
       "      <td>3467098</td>\n",
       "    </tr>\n",
       "    <tr>\n",
       "      <th>2018-04-13</th>\n",
       "      <td>42.96</td>\n",
       "      <td>43.1500</td>\n",
       "      <td>42.7600</td>\n",
       "      <td>42.76</td>\n",
       "      <td>4478190</td>\n",
       "    </tr>\n",
       "    <tr>\n",
       "      <th>2018-04-16</th>\n",
       "      <td>42.72</td>\n",
       "      <td>42.9250</td>\n",
       "      <td>42.4500</td>\n",
       "      <td>42.75</td>\n",
       "      <td>4249504</td>\n",
       "    </tr>\n",
       "    <tr>\n",
       "      <th>2018-04-17</th>\n",
       "      <td>42.65</td>\n",
       "      <td>42.8300</td>\n",
       "      <td>42.5800</td>\n",
       "      <td>42.76</td>\n",
       "      <td>4483288</td>\n",
       "    </tr>\n",
       "    <tr>\n",
       "      <th>2018-04-18</th>\n",
       "      <td>43.53</td>\n",
       "      <td>43.7000</td>\n",
       "      <td>43.3040</td>\n",
       "      <td>43.35</td>\n",
       "      <td>8703995</td>\n",
       "    </tr>\n",
       "    <tr>\n",
       "      <th>2018-04-19</th>\n",
       "      <td>43.67</td>\n",
       "      <td>43.9900</td>\n",
       "      <td>43.5200</td>\n",
       "      <td>43.71</td>\n",
       "      <td>4839451</td>\n",
       "    </tr>\n",
       "    <tr>\n",
       "      <th>2018-04-20</th>\n",
       "      <td>43.50</td>\n",
       "      <td>43.6600</td>\n",
       "      <td>43.1800</td>\n",
       "      <td>43.28</td>\n",
       "      <td>4251021</td>\n",
       "    </tr>\n",
       "  </tbody>\n",
       "</table>\n",
       "<p>240 rows × 5 columns</p>\n",
       "</div>"
      ],
      "text/plain": [
       "                    Close      High       Low    Open    Volume\n",
       "Symbol Date                                                    \n",
       "CVX    2018-01-01  125.19  125.1900  125.1900  125.19         0\n",
       "       2018-01-02  127.58  127.7400  125.5400  125.71   5626785\n",
       "       2018-01-03  128.51  128.9400  126.9000  127.46   5805458\n",
       "       2018-01-04  128.11  128.3500  127.2200  127.95   4598264\n",
       "       2018-01-05  127.90  128.1000  127.1000  127.97   4189223\n",
       "       2018-01-08  128.53  128.6300  127.6300  127.86   4826132\n",
       "       2018-01-09  127.84  128.9350  127.7900  128.43   4422338\n",
       "       2018-01-10  128.66  128.7600  127.7999  128.31   5292182\n",
       "       2018-01-11  132.57  133.3200  128.7600  128.92  11641292\n",
       "       2018-01-12  133.60  133.8500  132.1100  132.19   7232883\n",
       "       2018-01-15  133.60  133.6000  133.6000  133.60         0\n",
       "       2018-01-16  132.01  133.8800  131.6000  133.67   6254209\n",
       "       2018-01-17  132.36  132.8000  130.9600  132.19   5632748\n",
       "       2018-01-18  131.59  132.5000  131.0300  132.35   5890004\n",
       "       2018-01-19  131.30  132.0000  130.2100  131.83   6048904\n",
       "       2018-01-22  132.56  132.5600  131.2800  131.30   5248785\n",
       "       2018-01-23  131.02  132.5600  130.7300  132.38   5747334\n",
       "       2018-01-24  131.39  132.6678  131.0700  131.38   6868223\n",
       "       2018-01-25  130.65  131.8700  130.3400  131.76   4597183\n",
       "       2018-01-26  131.19  131.7500  130.3700  130.71   6310543\n",
       "       2018-01-29  128.48  131.5800  128.3200  130.06   6350723\n",
       "       2018-01-30  125.23  128.0100  125.1900  127.61   8084021\n",
       "       2018-01-31  125.35  125.8150  124.0500  125.42   9626771\n",
       "       2018-02-01  125.57  125.6300  124.0600  125.60   7844464\n",
       "       2018-02-02  118.58  123.9500  117.6400  123.95  13182551\n",
       "       2018-02-05  112.62  118.3000  108.0200  116.99  15414722\n",
       "       2018-02-06  117.18  117.6300  110.7600  111.20  18416320\n",
       "       2018-02-07  115.29  119.2700  115.2300  117.40  11535704\n",
       "       2018-02-08  112.30  115.8900  112.2100  115.17   9927483\n",
       "       2018-02-09  113.50  114.6200  109.5000  113.34  10922392\n",
       "...                   ...       ...       ...     ...       ...\n",
       "BP     2018-03-12   39.85   39.8800   39.5800   39.68   3706000\n",
       "       2018-03-13   39.55   40.2000   39.4600   40.08   3517855\n",
       "       2018-03-14   38.87   39.4900   38.8100   39.44   6302722\n",
       "       2018-03-15   39.03   39.1400   38.7500   38.92   3976380\n",
       "       2018-03-16   39.48   39.6150   39.0700   39.11   4596504\n",
       "       2018-03-19   38.75   39.2350   38.5645   39.22   4241119\n",
       "       2018-03-20   39.04   39.1850   38.6300   38.65   6005468\n",
       "       2018-03-21   40.13   40.3000   39.0000   39.05   7438388\n",
       "       2018-03-22   39.03   39.6000   38.9200   39.59   6243329\n",
       "       2018-03-23   39.12   39.6350   39.0910   39.26   5365647\n",
       "       2018-03-26   40.42   40.4500   39.8650   40.33   6796832\n",
       "       2018-03-27   39.97   40.5700   39.8100   40.52   4755929\n",
       "       2018-03-28   39.60   40.0500   39.5800   39.81   5031720\n",
       "       2018-03-29   40.54   40.6700   40.1500   40.19   8336918\n",
       "       2018-03-30   40.54   40.5400   40.5400   40.54         0\n",
       "       2018-04-02   39.91   40.5400   39.4500   40.53   5752852\n",
       "       2018-04-03   40.71   40.7400   40.0500   40.61   5849663\n",
       "       2018-04-04   41.03   41.0300   40.5750   40.64   7305531\n",
       "       2018-04-05   41.92   42.0900   41.3200   41.36   7062440\n",
       "       2018-04-06   41.76   42.3900   41.5100   42.24   9060053\n",
       "       2018-04-09   41.66   41.9700   41.4000   41.63   5930608\n",
       "       2018-04-10   42.78   43.0000   42.3910   42.40   9041669\n",
       "       2018-04-11   43.06   43.2700   42.9000   43.03   5910073\n",
       "       2018-04-12   43.06   43.2450   42.8000   42.98   3467098\n",
       "       2018-04-13   42.96   43.1500   42.7600   42.76   4478190\n",
       "       2018-04-16   42.72   42.9250   42.4500   42.75   4249504\n",
       "       2018-04-17   42.65   42.8300   42.5800   42.76   4483288\n",
       "       2018-04-18   43.53   43.7000   43.3040   43.35   8703995\n",
       "       2018-04-19   43.67   43.9900   43.5200   43.71   4839451\n",
       "       2018-04-20   43.50   43.6600   43.1800   43.28   4251021\n",
       "\n",
       "[240 rows x 5 columns]"
      ]
     },
     "execution_count": 11,
     "metadata": {},
     "output_type": "execute_result"
    }
   ],
   "source": [
    "prices_df"
   ]
  },
  {
   "cell_type": "code",
   "execution_count": 33,
   "metadata": {},
   "outputs": [
    {
     "data": {
      "text/plain": [
       "Symbol  Date      \n",
       "BP      2018-04-16    4249504\n",
       "        2018-04-17    4483288\n",
       "        2018-04-18    8703995\n",
       "        2018-04-19    4839451\n",
       "        2018-04-20    4251021\n",
       "Name: Volume, dtype: int64"
      ]
     },
     "execution_count": 33,
     "metadata": {},
     "output_type": "execute_result"
    }
   ],
   "source": [
    "prices_df.head()\n",
    "prices_df.tail()"
   ]
  },
  {
   "cell_type": "code",
   "execution_count": 6,
   "metadata": {},
   "outputs": [],
   "source": [
    "start = datetime.datetime(2018, 1, 1)\n",
    "end = datetime.datetime(2018,4,22)\n",
    " \n",
    "prices_df = pdweb.DataReader(['CVX','XOM','BP'], 'morningstar', start, end)['Volume']"
   ]
  },
  {
   "cell_type": "code",
   "execution_count": 18,
   "metadata": {},
   "outputs": [
    {
     "data": {
      "text/plain": [
       "Symbol  Date      \n",
       "CVX     2018-01-01           0\n",
       "        2018-01-02     5626785\n",
       "        2018-01-03     5805458\n",
       "        2018-01-04     4598264\n",
       "        2018-01-05     4189223\n",
       "        2018-01-08     4826132\n",
       "        2018-01-09     4422338\n",
       "        2018-01-10     5292182\n",
       "        2018-01-11    11641292\n",
       "        2018-01-12     7232883\n",
       "        2018-01-15           0\n",
       "        2018-01-16     6254209\n",
       "        2018-01-17     5632748\n",
       "        2018-01-18     5890004\n",
       "        2018-01-19     6048904\n",
       "        2018-01-22     5248785\n",
       "        2018-01-23     5747334\n",
       "        2018-01-24     6868223\n",
       "        2018-01-25     4597183\n",
       "        2018-01-26     6310543\n",
       "        2018-01-29     6350723\n",
       "        2018-01-30     8084021\n",
       "        2018-01-31     9626771\n",
       "        2018-02-01     7844464\n",
       "        2018-02-02    13182551\n",
       "        2018-02-05    15414722\n",
       "        2018-02-06    18416320\n",
       "        2018-02-07    11535704\n",
       "        2018-02-08     9927483\n",
       "        2018-02-09    10922392\n",
       "                        ...   \n",
       "BP      2018-03-12     3706000\n",
       "        2018-03-13     3517855\n",
       "        2018-03-14     6302722\n",
       "        2018-03-15     3976380\n",
       "        2018-03-16     4596504\n",
       "        2018-03-19     4241119\n",
       "        2018-03-20     6005468\n",
       "        2018-03-21     7438388\n",
       "        2018-03-22     6243329\n",
       "        2018-03-23     5365647\n",
       "        2018-03-26     6796832\n",
       "        2018-03-27     4755929\n",
       "        2018-03-28     5031720\n",
       "        2018-03-29     8336918\n",
       "        2018-03-30           0\n",
       "        2018-04-02     5752852\n",
       "        2018-04-03     5849663\n",
       "        2018-04-04     7305531\n",
       "        2018-04-05     7062440\n",
       "        2018-04-06     9060053\n",
       "        2018-04-09     5930608\n",
       "        2018-04-10     9041669\n",
       "        2018-04-11     5910073\n",
       "        2018-04-12     3467098\n",
       "        2018-04-13     4478190\n",
       "        2018-04-16     4249504\n",
       "        2018-04-17     4483288\n",
       "        2018-04-18     8703995\n",
       "        2018-04-19     4839451\n",
       "        2018-04-20     4251021\n",
       "Name: Volume, Length: 240, dtype: int64"
      ]
     },
     "execution_count": 18,
     "metadata": {},
     "output_type": "execute_result"
    }
   ],
   "source": [
    "prices_df"
   ]
  },
  {
   "cell_type": "code",
   "execution_count": 7,
   "metadata": {},
   "outputs": [
    {
     "data": {
      "text/plain": [
       "Symbol  Date      \n",
       "CVX     2018-01-01          0\n",
       "        2018-01-02    5626785\n",
       "        2018-01-03    5805458\n",
       "        2018-01-04    4598264\n",
       "        2018-01-05    4189223\n",
       "Name: Volume, dtype: int64"
      ]
     },
     "execution_count": 7,
     "metadata": {},
     "output_type": "execute_result"
    }
   ],
   "source": [
    "prices_df.head()"
   ]
  },
  {
   "cell_type": "code",
   "execution_count": 8,
   "metadata": {},
   "outputs": [],
   "source": [
    "rets = prices_df.pct_change()"
   ]
  },
  {
   "cell_type": "code",
   "execution_count": 24,
   "metadata": {},
   "outputs": [
    {
     "data": {
      "text/plain": [
       "Symbol  Date      \n",
       "CVX     2018-01-01         NaN\n",
       "        2018-01-02         inf\n",
       "        2018-01-03    0.031754\n",
       "        2018-01-04   -0.207941\n",
       "        2018-01-05   -0.088956\n",
       "        2018-01-08    0.152035\n",
       "        2018-01-09   -0.083668\n",
       "        2018-01-10    0.196693\n",
       "        2018-01-11    1.199715\n",
       "        2018-01-12   -0.378687\n",
       "        2018-01-15   -1.000000\n",
       "        2018-01-16         inf\n",
       "        2018-01-17   -0.099367\n",
       "        2018-01-18    0.045671\n",
       "        2018-01-19    0.026978\n",
       "        2018-01-22   -0.132275\n",
       "        2018-01-23    0.094984\n",
       "        2018-01-24    0.195028\n",
       "        2018-01-25   -0.330659\n",
       "        2018-01-26    0.372698\n",
       "        2018-01-29    0.006367\n",
       "        2018-01-30    0.272929\n",
       "        2018-01-31    0.190839\n",
       "        2018-02-01   -0.185141\n",
       "        2018-02-02    0.680491\n",
       "        2018-02-05    0.169328\n",
       "        2018-02-06    0.194723\n",
       "        2018-02-07   -0.373615\n",
       "        2018-02-08   -0.139412\n",
       "        2018-02-09    0.100218\n",
       "                        ...   \n",
       "BP      2018-03-12    0.114320\n",
       "        2018-03-13   -0.050768\n",
       "        2018-03-14    0.791638\n",
       "        2018-03-15   -0.369101\n",
       "        2018-03-16    0.155952\n",
       "        2018-03-19   -0.077316\n",
       "        2018-03-20    0.416010\n",
       "        2018-03-21    0.238603\n",
       "        2018-03-22   -0.160661\n",
       "        2018-03-23   -0.140579\n",
       "        2018-03-26    0.266731\n",
       "        2018-03-27   -0.300273\n",
       "        2018-03-28    0.057989\n",
       "        2018-03-29    0.656872\n",
       "        2018-03-30   -1.000000\n",
       "        2018-04-02         inf\n",
       "        2018-04-03    0.016828\n",
       "        2018-04-04    0.248881\n",
       "        2018-04-05   -0.033275\n",
       "        2018-04-06    0.282850\n",
       "        2018-04-09   -0.345411\n",
       "        2018-04-10    0.524577\n",
       "        2018-04-11   -0.346352\n",
       "        2018-04-12   -0.413358\n",
       "        2018-04-13    0.291625\n",
       "        2018-04-16   -0.051067\n",
       "        2018-04-17    0.055014\n",
       "        2018-04-18    0.941431\n",
       "        2018-04-19   -0.443997\n",
       "        2018-04-20   -0.121590\n",
       "Name: Volume, Length: 240, dtype: float64"
      ]
     },
     "execution_count": 24,
     "metadata": {},
     "output_type": "execute_result"
    }
   ],
   "source": [
    "rets"
   ]
  },
  {
   "cell_type": "code",
   "execution_count": 29,
   "metadata": {},
   "outputs": [],
   "source": [
    "# Correlation from Stocks\n",
    "corr = rets.corr\n"
   ]
  },
  {
   "cell_type": "code",
   "execution_count": 16,
   "metadata": {},
   "outputs": [
    {
     "data": {
      "text/plain": [
       "<matplotlib.axes._subplots.AxesSubplot at 0xc128310>"
      ]
     },
     "execution_count": 16,
     "metadata": {},
     "output_type": "execute_result"
    },
    {
     "data": {
      "image/png": "[encoded data removed]",
      "text/plain": [
       "<matplotlib.figure.Figure at 0xc13c670>"
      ]
     },
     "metadata": {},
     "output_type": "display_data"
    }
   ],
   "source": [
    "%matplotlib inline\n",
    "prices_df.plot()"
   ]
  },
  {
   "cell_type": "code",
   "execution_count": 17,
   "metadata": {},
   "outputs": [],
   "source": [
    "import seaborn as sns\n",
    "import matplotlib.pyplot as plt"
   ]
  },
  {
   "cell_type": "code",
   "execution_count": 25,
   "metadata": {},
   "outputs": [
    {
     "data": {
      "text/plain": [
       "<matplotlib.axes._subplots.AxesSubplot at 0x5c99490>"
      ]
     },
     "execution_count": 25,
     "metadata": {},
     "output_type": "execute_result"
    },
    {
     "data": {
      "image/png": "[encoded data removed]",
      "text/plain": [
       "<matplotlib.figure.Figure at 0x5c2e470>"
      ]
     },
     "metadata": {},
     "output_type": "display_data"
    }
   ],
   "source": [
    "sns.boxplot(rets)"
   ]
  },
  {
   "cell_type": "code",
   "execution_count": 12,
   "metadata": {},
   "outputs": [
    {
     "data": {
      "image/png": "[encoded data removed]",
      "text/plain": [
       "<matplotlib.figure.Figure at 0x104adff0>"
      ]
     },
     "metadata": {},
     "output_type": "display_data"
    }
   ],
   "source": [
    "import numpy as np; np.random.seed(0)\n",
    "import seaborn as sns; sns.set()\n",
    "uniform_data = np.random.rand(10, 12)\n",
    "ax = sns.heatmap(uniform_data)\n"
   ]
  },
  {
   "cell_type": "code",
   "execution_count": 27,
   "metadata": {},
   "outputs": [
    {
     "data": {
      "text/plain": [
       "0    w\n",
       "1    w\n",
       "2    x\n",
       "3    y\n",
       "4    w\n",
       "5    x\n",
       "6    y\n",
       "7    x\n",
       "8    a\n",
       "dtype: object"
      ]
     },
     "execution_count": 27,
     "metadata": {},
     "output_type": "execute_result"
    }
   ],
   "source": [
    "ser1 = Series(['w','w','x','y','w','x','y','x','a'])\n",
    "\n",
    "ser1"
   ]
  },
  {
   "cell_type": "code",
   "execution_count": 29,
   "metadata": {},
   "outputs": [
    {
     "data": {
      "text/plain": [
       "array(['w', 'x', 'y', 'a'], dtype=object)"
      ]
     },
     "execution_count": 29,
     "metadata": {},
     "output_type": "execute_result"
    }
   ],
   "source": [
    "ser1.unique()"
   ]
  },
  {
   "cell_type": "code",
   "execution_count": 30,
   "metadata": {},
   "outputs": [
    {
     "data": {
      "text/plain": [
       "x    3\n",
       "w    3\n",
       "y    2\n",
       "a    1\n",
       "dtype: int64"
      ]
     },
     "execution_count": 30,
     "metadata": {},
     "output_type": "execute_result"
    }
   ],
   "source": [
    "ser1.value_counts()"
   ]
  },
  {
   "cell_type": "code",
   "execution_count": null,
   "metadata": {},
   "outputs": [],
   "source": []
  }
 ],
 "metadata": {
  "kernelspec": {
   "display_name": "Python 3",
   "language": "python",
   "name": "python3"
  },
  "language_info": {
   "codemirror_mode": {
    "name": "ipython",
    "version": 3
   },
   "file_extension": ".py",
   "mimetype": "text/x-python",
   "name": "python",
   "nbconvert_exporter": "python",
   "pygments_lexer": "ipython3",
   "version": "3.6.3"
  }
 },
 "nbformat": 4,
 "nbformat_minor": 2
}
