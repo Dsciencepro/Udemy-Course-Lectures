{
 "cells": [
  {
   "cell_type": "code",
   "execution_count": 1,
   "metadata": {},
   "outputs": [],
   "source": [
    "# The normal imports\n",
    "import numpy as np\n",
    "import pandas as pd\n",
    "from numpy.random import randn\n",
    "\n",
    "\n",
    "# Import the stats Library from numpy\n",
    "from scipy import stats\n",
    "\n",
    "\n",
    "# These are the plotting modules and libraries we will use:\n",
    "\n",
    "import matplotlib as mpl\n",
    "import matplotlib.pyplot as plt\n",
    "import seaborn as sns\n",
    "\n",
    "# Command so that plots appear in the iPython Notebook\n",
    "%matplotlib inline"
   ]
  },
  {
   "cell_type": "code",
   "execution_count": 2,
   "metadata": {},
   "outputs": [],
   "source": [
    "dataset = randn(100)"
   ]
  },
  {
   "cell_type": "code",
   "execution_count": 5,
   "metadata": {},
   "outputs": [
    {
     "data": {
      "text/plain": [
       "<matplotlib.axes._subplots.AxesSubplot at 0xd35fa50>"
      ]
     },
     "execution_count": 5,
     "metadata": {},
     "output_type": "execute_result"
    },
    {
     "data": {
      "image/png": "[encoded data removed]",
      "text/plain": [
       "<matplotlib.figure.Figure at 0xafe9410>"
      ]
     },
     "metadata": {},
     "output_type": "display_data"
    }
   ],
   "source": [
    "sns.distplot(dataset,bins=25,rug=True,hist=False)"
   ]
  },
  {
   "cell_type": "code",
   "execution_count": 6,
   "metadata": {},
   "outputs": [
    {
     "data": {
      "text/plain": [
       "<matplotlib.axes._subplots.AxesSubplot at 0xee18f10>"
      ]
     },
     "execution_count": 6,
     "metadata": {},
     "output_type": "execute_result"
    },
    {
     "data": {
      "image/png": "[encoded data removed]",
      "text/plain": [
       "<matplotlib.figure.Figure at 0xee18bf0>"
      ]
     },
     "metadata": {},
     "output_type": "display_data"
    }
   ],
   "source": [
    "sns.distplot(dataset,bins=25,\n",
    "            kde_kws={'color':'indianred','label':'KDE PLOT'},\n",
    "            hist_kws={'color':'blue','label':'HIST'})"
   ]
  },
  {
   "cell_type": "code",
   "execution_count": 7,
   "metadata": {},
   "outputs": [],
   "source": [
    "from pandas import Series, DataFrame"
   ]
  },
  {
   "cell_type": "code",
   "execution_count": 9,
   "metadata": {},
   "outputs": [],
   "source": [
    "ser1 = Series(dataset,name='My_Data')"
   ]
  },
  {
   "cell_type": "code",
   "execution_count": 10,
   "metadata": {},
   "outputs": [
    {
     "data": {
      "text/plain": [
       "0     1.562983\n",
       "1     1.076375\n",
       "2     1.803278\n",
       "3     0.029554\n",
       "4     0.100129\n",
       "5     0.716202\n",
       "6    -0.888916\n",
       "7    -1.120730\n",
       "8     0.430365\n",
       "9     1.202915\n",
       "10   -0.315357\n",
       "11    1.346823\n",
       "12   -0.867580\n",
       "13    0.365814\n",
       "14    0.039681\n",
       "15   -0.781292\n",
       "16   -0.732987\n",
       "17    0.586155\n",
       "18   -0.722090\n",
       "19   -0.407526\n",
       "20    0.029672\n",
       "21   -0.580070\n",
       "22    1.008233\n",
       "23   -2.348701\n",
       "24   -1.276031\n",
       "25   -1.810009\n",
       "26   -0.621266\n",
       "27    0.658928\n",
       "28   -0.704018\n",
       "29    0.955172\n",
       "        ...   \n",
       "70   -0.111224\n",
       "71   -0.266267\n",
       "72    0.350508\n",
       "73   -0.048032\n",
       "74   -0.436599\n",
       "75   -0.399901\n",
       "76   -1.426786\n",
       "77   -0.735872\n",
       "78   -2.719471\n",
       "79   -0.191763\n",
       "80   -0.195425\n",
       "81   -1.314894\n",
       "82    2.583560\n",
       "83   -1.188768\n",
       "84    0.132676\n",
       "85    0.563652\n",
       "86    1.064681\n",
       "87    0.007078\n",
       "88   -1.160294\n",
       "89   -0.140665\n",
       "90   -1.460592\n",
       "91   -1.879555\n",
       "92   -1.561114\n",
       "93    2.052946\n",
       "94   -0.896390\n",
       "95    0.363835\n",
       "96    0.448194\n",
       "97    0.496120\n",
       "98    2.044955\n",
       "99    0.856349\n",
       "Name: My_Data, Length: 100, dtype: float64"
      ]
     },
     "execution_count": 10,
     "metadata": {},
     "output_type": "execute_result"
    }
   ],
   "source": [
    "ser1"
   ]
  },
  {
   "cell_type": "code",
   "execution_count": 12,
   "metadata": {},
   "outputs": [
    {
     "data": {
      "text/plain": [
       "<matplotlib.axes._subplots.AxesSubplot at 0xee86430>"
      ]
     },
     "execution_count": 12,
     "metadata": {},
     "output_type": "execute_result"
    },
    {
     "data": {
      "image/png": "[encoded data removed]",
      "text/plain": [
       "<matplotlib.figure.Figure at 0xee6d550>"
      ]
     },
     "metadata": {},
     "output_type": "display_data"
    }
   ],
   "source": [
    "sns.distplot(ser1,bins = 25)"
   ]
  },
  {
   "cell_type": "code",
   "execution_count": null,
   "metadata": {},
   "outputs": [],
   "source": []
  }
 ],
 "metadata": {
  "kernelspec": {
   "display_name": "Python 3",
   "language": "python",
   "name": "python3"
  },
  "language_info": {
   "codemirror_mode": {
    "name": "ipython",
    "version": 3
   },
   "file_extension": ".py",
   "mimetype": "text/x-python",
   "name": "python",
   "nbconvert_exporter": "python",
   "pygments_lexer": "ipython3",
   "version": "3.6.3"
  }
 },
 "nbformat": 4,
 "nbformat_minor": 2
}
